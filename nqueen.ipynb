{
 "cells": [
  {
   "cell_type": "code",
   "execution_count": 25,
   "metadata": {},
   "outputs": [
    {
     "name": "stdout",
     "output_type": "stream",
     "text": [
      "4\n",
      "Solution 1 is:\n",
      ".  Q  .  .  \n",
      "\n",
      ".  .  .  Q  \n",
      "\n",
      "Q  .  .  .  \n",
      "\n",
      ".  .  Q  .  \n",
      "\n",
      "Solution 2 is:\n",
      ".  .  Q  .  \n",
      "\n",
      "Q  .  .  .  \n",
      "\n",
      ".  .  .  Q  \n",
      "\n",
      ".  Q  .  .  \n",
      "\n"
     ]
    }
   ],
   "source": [
    "import math\n",
    "\n",
    "s=0\n",
    "n=int(input())\n",
    "t=[-1]*n\n",
    "\n",
    "def display():\n",
    "    global t,n\n",
    "    chess=[[]]\n",
    "    chess = [[0 for i in range(n)] for j in range(n)] \n",
    "    for i in range(n):\n",
    "        for j in range(n):\n",
    "            chess[i][j]=\".\"\n",
    "    for i in range(n):\n",
    "        chess[i][t[i]]=\"Q\"\n",
    "    for i in range(n):\n",
    "        for j in range(n):\n",
    "            print(chess[i][j],end=\"  \")      \n",
    "        print(\"\\n\") \n",
    "        \n",
    "def safe(i):\n",
    "    global t\n",
    "    j=0\n",
    "    while t[i]!=t[j] and abs(t[i]-t[j])!=abs(i-j):\n",
    "        j=j+1\n",
    "    if i==j:\n",
    "        return 1\n",
    "    else:\n",
    "        return 0\n",
    "    \n",
    "\n",
    "def nqueen(i):\n",
    "    global t,s\n",
    "    for t[i] in range(n):\n",
    "        if safe(i):\n",
    "            if i==n-1:\n",
    "                s=s+1\n",
    "                print(\"Solution {} is:\".format(s))\n",
    "                display()\n",
    "            else:\n",
    "                nqueen(i+1)\n",
    "                \n",
    "\n",
    "    \n",
    "\n",
    "def run_it():\n",
    "    nqueen(0)\n",
    "    \n",
    "    \n",
    "run_it()\n"
   ]
  },
  {
   "cell_type": "code",
   "execution_count": null,
   "metadata": {},
   "outputs": [],
   "source": [
    "\n"
   ]
  },
  {
   "cell_type": "code",
   "execution_count": null,
   "metadata": {},
   "outputs": [],
   "source": []
  },
  {
   "cell_type": "code",
   "execution_count": null,
   "metadata": {},
   "outputs": [],
   "source": []
  },
  {
   "cell_type": "code",
   "execution_count": null,
   "metadata": {},
   "outputs": [],
   "source": []
  }
 ],
 "metadata": {
  "kernelspec": {
   "display_name": "Python 3",
   "language": "python",
   "name": "python3"
  },
  "language_info": {
   "codemirror_mode": {
    "name": "ipython",
    "version": 3
   },
   "file_extension": ".py",
   "mimetype": "text/x-python",
   "name": "python",
   "nbconvert_exporter": "python",
   "pygments_lexer": "ipython3",
   "version": "3.7.0"
  }
 },
 "nbformat": 4,
 "nbformat_minor": 2
}
